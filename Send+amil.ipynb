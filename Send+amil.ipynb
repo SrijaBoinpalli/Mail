{
 "cells": [
  {
   "cell_type": "code",
   "execution_count": 1,
   "metadata": {},
   "outputs": [
    {
     "data": {
      "text/plain": [
       "(221, b'2.0.0 closing connection l97sm3420758ioi.61 - gsmtp')"
      ]
     },
     "execution_count": 1,
     "metadata": {},
     "output_type": "execute_result"
    }
   ],
   "source": [
    "import smtplib\n",
    "from email.mime.multipart import MIMEMultipart\n",
    "from email.mime.text import MIMEText\n",
    "\n",
    "me = \"sender's mail id\"\n",
    "my_password = r\"sender's password\"\n",
    "you = \"receiver's mail id\"\n",
    "\n",
    "msg = MIMEMultipart('alternative')\n",
    "msg['Subject'] = \"Python Alert\"\n",
    "msg['From'] = me\n",
    "msg['To'] = you\n",
    "\n",
    "html = '<html><body><p>Test Mail from Python</p></body></html>'\n",
    "part2 = MIMEText(html, 'html')\n",
    "\n",
    "msg.attach(part2)\n",
    "\n",
    "# Send the message via gmail's regular server, over SSL - passwords are being sent, afterall\n",
    "s = smtplib.SMTP_SSL('smtp.gmail.com')\n",
    "# uncomment if interested in the actual smtp conversation\n",
    "# s.set_debuglevel(1)\n",
    "# do the smtp auth; sends ehlo if it hasn't been sent already\n",
    "s.login(me, my_password)\n",
    "\n",
    "s.sendmail(me, you, msg.as_string())\n",
    "s.quit()"
   ]
  },
  {
   "cell_type": "code",
   "execution_count": null,
   "metadata": {
    "collapsed": true
   },
   "outputs": [],
   "source": []
  }
 ],
 "metadata": {
  "kernelspec": {
   "display_name": "Python 3",
   "language": "python",
   "name": "python3"
  },
  "language_info": {
   "codemirror_mode": {
    "name": "ipython",
    "version": 3
   },
   "file_extension": ".py",
   "mimetype": "text/x-python",
   "name": "python",
   "nbconvert_exporter": "python",
   "pygments_lexer": "ipython3",
   "version": "3.6.1"
  }
 },
 "nbformat": 4,
 "nbformat_minor": 2
}
